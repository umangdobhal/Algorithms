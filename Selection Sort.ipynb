{
 "cells": [
  {
   "cell_type": "markdown",
   "id": "1a9ec23f",
   "metadata": {},
   "source": [
    "## Selection Sort\n",
    "### About\n",
    "Selection sort is a sorting algorithm that selects the smallest element from an unsorted list in each iteration and places that element at the beginning of the unsorted list.\n",
    "### Algorithm\n",
    "1. Set the first element as minimum.\n",
    "2. Compare minimum with the second element. If the second element is smaller than minimum, assign the second element as minimum. Compare minimum with the third element. Again, if the third element is smaller, then assign minimum to the third element otherwise do nothing. The process goes on until the last element.\n",
    "3. After each iteration, minimum is placed in the front of the unsorted list.\n",
    "4. For each iteration, indexing starts from the first unsorted element. Step 1 to 3 are repeated until all the elements are placed at their correct positions."
   ]
  },
  {
   "cell_type": "code",
   "execution_count": 2,
   "id": "b12dc27e",
   "metadata": {},
   "outputs": [
    {
     "name": "stdout",
     "output_type": "stream",
     "text": [
      "Enter the number of elements in the array: 10\n",
      "95\n",
      "78\n",
      "23\n",
      "15\n",
      "46\n",
      "82\n",
      "64\n",
      "69\n",
      "23\n",
      "35\n",
      "Array is:  [95, 78, 23, 15, 46, 82, 64, 69, 23, 35]\n",
      "Sorted Array:  [15, 23, 23, 35, 46, 64, 69, 78, 82, 95]\n"
     ]
    }
   ],
   "source": [
    "def selectionSort(array, size):\n",
    "    for step in range(size):\n",
    "        min_idx = step\n",
    "\n",
    "        for i in range(step + 1, size):\n",
    "         \n",
    "          if array[i] < array[min_idx]:\n",
    "                min_idx = i\n",
    "\n",
    "        (array[step], array[min_idx]) = (array[min_idx], array[step])\n",
    "\n",
    "\n",
    "a = []\n",
    "n = int(input(\"Enter the number of elements in the array: \"))\n",
    "for i in range(0,n):\n",
    "    b = int(input())\n",
    "    a.append(b)\n",
    "print(\"Array is: \", a)\n",
    "selectionSort(a,n)\n",
    "print('Sorted Array: ', a)"
   ]
  },
  {
   "cell_type": "code",
   "execution_count": null,
   "id": "5cb6a555",
   "metadata": {},
   "outputs": [],
   "source": []
  }
 ],
 "metadata": {
  "kernelspec": {
   "display_name": "Python 3 (ipykernel)",
   "language": "python",
   "name": "python3"
  },
  "language_info": {
   "codemirror_mode": {
    "name": "ipython",
    "version": 3
   },
   "file_extension": ".py",
   "mimetype": "text/x-python",
   "name": "python",
   "nbconvert_exporter": "python",
   "pygments_lexer": "ipython3",
   "version": "3.9.13"
  }
 },
 "nbformat": 4,
 "nbformat_minor": 5
}
