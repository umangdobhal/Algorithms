{
 "cells": [
  {
   "cell_type": "markdown",
   "id": "45026013",
   "metadata": {},
   "source": [
    "## BINARY SEARCH\n",
    "\n",
    "### About\n",
    "It is used to search element in a sorted array. It divides the array into equal parts and search the element in these parts.\n",
    "### Algorithm\n",
    "1. If element == middle, return the middle position\n",
    "2. If element is > element at middle, then search the lower half of the array.\n",
    "3. If element is < element at middle, then search the upper half of the array.\n",
    "4. Print the index of the result, if not in array, give -1  as ouput"
   ]
  },
  {
   "cell_type": "code",
   "execution_count": 3,
   "id": "929329c3",
   "metadata": {
    "scrolled": true
   },
   "outputs": [
    {
     "name": "stdout",
     "output_type": "stream",
     "text": [
      "Enter number of elements in array: 10\n",
      "99\n",
      "77\n",
      "25\n",
      "14\n",
      "85\n",
      "63\n",
      "28\n",
      "97\n",
      "10\n",
      "19\n",
      "Array is:  [99, 77, 25, 14, 85, 63, 28, 97, 10, 19]\n",
      "Sorted array is:  [10, 14, 19, 25, 28, 63, 77, 85, 97, 99]\n",
      "Enter number to be searched: 19\n",
      "Element found at index:  2\n"
     ]
    }
   ],
   "source": [
    "def binary_search(arr, start, end, search):\n",
    "    mid = (start + end)//2\n",
    "    if (arr[mid] == search):\n",
    "        return mid\n",
    "    elif (arr[mid] < search):\n",
    "        return binary_search(arr, mid, end, search)\n",
    "    elif (arr[mid] > search):\n",
    "        return binary_search(arr, start, mid - 1, search)\n",
    "    else:\n",
    "        return -1\n",
    "\n",
    "\n",
    "a = []\n",
    "n = int(input(\"Enter number of elements in array: \"))\n",
    "start = 0\n",
    "end = n-1\n",
    "for i in range (0,n):\n",
    "    b = int(input())\n",
    "    a.append(b)\n",
    "    \n",
    "print(\"Array is: \", a)\n",
    "a.sort()\n",
    "print(\"Sorted array is: \", a)\n",
    "\n",
    "b = int(input(\"Enter number to be searched: \"))\n",
    "index = binary_search(a, start,end,b)\n",
    "print(\"Element found at index: \", index)"
   ]
  },
  {
   "cell_type": "code",
   "execution_count": null,
   "id": "f553cdea",
   "metadata": {},
   "outputs": [],
   "source": []
  }
 ],
 "metadata": {
  "kernelspec": {
   "display_name": "Python 3 (ipykernel)",
   "language": "python",
   "name": "python3"
  },
  "language_info": {
   "codemirror_mode": {
    "name": "ipython",
    "version": 3
   },
   "file_extension": ".py",
   "mimetype": "text/x-python",
   "name": "python",
   "nbconvert_exporter": "python",
   "pygments_lexer": "ipython3",
   "version": "3.9.13"
  }
 },
 "nbformat": 4,
 "nbformat_minor": 5
}
