{
 "cells": [
  {
   "cell_type": "markdown",
   "id": "a9c39838",
   "metadata": {},
   "source": [
    "## Knuth Morris Pratt Algorithm\n",
    "The Knuth-Morris-Pratt (KMP) algorithm is an algorithm that is used to search for a substring (W), in a given string (S), in ```\n",
    "O(m+n) ``` where ``` m = length of sub string ``` and ``` n = length of string ```"
   ]
  },
  {
   "cell_type": "code",
   "execution_count": 1,
   "id": "1e3d9c98",
   "metadata": {},
   "outputs": [
    {
     "name": "stdout",
     "output_type": "stream",
     "text": [
      "Pattern found\n"
     ]
    }
   ],
   "source": [
    "string = str(input(\"Enter a string: \"))\n",
    "pattern = str(input(\"Enter the pattern to search: \"))\n",
    "\n",
    "i, j = 0, 0\n",
    "m, n = len(pattern), len(string)\n",
    "arr = [0] * m\n",
    "found = False\n",
    "\n",
    "# Preprocess the pattern to generate the arr[] array\n",
    "while i < m:\n",
    "    if i == 0:\n",
    "        arr[i] = 0\n",
    "        i += 1\n",
    "    elif pattern[i] == pattern[j]:\n",
    "        j += 1\n",
    "        arr[i] = j\n",
    "        i += 1\n",
    "    else:\n",
    "        if j != 0:\n",
    "            j = arr[j-1]\n",
    "        else:\n",
    "            arr[i] = 0\n",
    "            i += 1\n",
    "\n",
    "# Perform pattern matching using the generated arr[] array\n",
    "i, j = 0, 0\n",
    "while i < n and j < m:\n",
    "    if pattern[j] == string[i]:\n",
    "        i += 1\n",
    "        j += 1\n",
    "    else:\n",
    "        if j != 0:\n",
    "            j = arr[j-1]\n",
    "        else:\n",
    "            i += 1\n",
    "\n",
    "    if j == m:\n",
    "        found = True\n",
    "        break\n",
    "\n",
    "if found:\n",
    "    print(\"Pattern found\")\n",
    "else:\n",
    "    print(\"Pattern not present\")\n"
   ]
  },
  {
   "cell_type": "code",
   "execution_count": null,
   "id": "bd07548f",
   "metadata": {},
   "outputs": [],
   "source": []
  }
 ],
 "metadata": {
  "kernelspec": {
   "display_name": "Python 3 (ipykernel)",
   "language": "python",
   "name": "python3"
  },
  "language_info": {
   "codemirror_mode": {
    "name": "ipython",
    "version": 3
   },
   "file_extension": ".py",
   "mimetype": "text/x-python",
   "name": "python",
   "nbconvert_exporter": "python",
   "pygments_lexer": "ipython3",
   "version": "3.9.13"
  }
 },
 "nbformat": 4,
 "nbformat_minor": 5
}
