{
 "cells": [
  {
   "cell_type": "markdown",
   "id": "6c9f22b8",
   "metadata": {},
   "source": [
    "## Kadane's Algorithm\n",
    "It is used to solve the 'Maximum Subarray problem'.\n",
    "\n",
    "### Maximum Subarray Problem\n",
    "Let us have an array of size 'n'\n",
    "We need to find the largest sum of a contiguous subarray.\n",
    "Example : arr = [1,-2,5,-3,4,-1,6]\n",
    "The largest sum will be 11 from the subarray [5,-3,4,-1,6]\n",
    "\n",
    "### Approach\n",
    "```\n",
    "for(int i = 0; i <= size of array; i++)\n",
    "{\n",
    "\tsum = 0, maxSum = arr[i]\n",
    "    Step 1: sum += arr[i]\n",
    "    Step 2: maxSum = max(maxSum, sum)\n",
    "    Step 3: if sum < 0, then sum = 0\n",
    "}\n",
    "```\n"
   ]
  },
  {
   "cell_type": "code",
   "execution_count": 1,
   "id": "fccd331a",
   "metadata": {},
   "outputs": [
    {
     "name": "stdout",
     "output_type": "stream",
     "text": [
      "Enter size of array: 10\n",
      "-20\n",
      "-10\n",
      "5\n",
      "2\n",
      "1\n",
      "3\n",
      "-7\n",
      "9\n",
      "-6\n",
      "20\n",
      "Array:  [-20, -10, 5, 2, 1, 3, -7, 9, -6, 20]\n",
      "Largest sum of contigous subarray  [5, 2, 1, 3, -7, 9, -6, 20]  is:  27\n"
     ]
    }
   ],
   "source": [
    "a = []\n",
    "n = int(input(\"Enter size of array: \"))\n",
    "for i in range(0,n):\n",
    "    b = int(input())\n",
    "    a.append(b)\n",
    "    \n",
    "print(\"Array: \", a)\n",
    "total, maxTotal = 0, a[0]\n",
    "c = []\n",
    "for i in range(0,n):\n",
    "    total += a[i]\n",
    "    maxTotal = max(maxTotal, total)\n",
    "    c.append(a[i])\n",
    "    if total < 0:\n",
    "        total = 0\n",
    "        c.clear()\n",
    "\n",
    "print(\"Largest sum of contigous subarray \", c , \" is: \", maxTotal)"
   ]
  },
  {
   "cell_type": "code",
   "execution_count": null,
   "id": "b89ac88c",
   "metadata": {},
   "outputs": [],
   "source": []
  }
 ],
 "metadata": {
  "kernelspec": {
   "display_name": "Python 3 (ipykernel)",
   "language": "python",
   "name": "python3"
  },
  "language_info": {
   "codemirror_mode": {
    "name": "ipython",
    "version": 3
   },
   "file_extension": ".py",
   "mimetype": "text/x-python",
   "name": "python",
   "nbconvert_exporter": "python",
   "pygments_lexer": "ipython3",
   "version": "3.9.13"
  }
 },
 "nbformat": 4,
 "nbformat_minor": 5
}
