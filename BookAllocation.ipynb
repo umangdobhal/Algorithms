{
 "cells": [
  {
   "cell_type": "code",
   "execution_count": 6,
   "id": "f29f29a7-79de-4504-b9bd-17a255a469f8",
   "metadata": {},
   "outputs": [
    {
     "name": "stdout",
     "output_type": "stream",
     "text": [
      "61.15625\n"
     ]
    }
   ],
   "source": [
    "def allocate_books(arr, n, m):\n",
    "    s, sum = 0, 0\n",
    "    for i in range(0,n):\n",
    "        sum += arr[i]\n",
    "    e = sum\n",
    "    mid = s + (e-s)/2\n",
    "    while(s <= e):\n",
    "        if is_possible(arr, n, m, mid):\n",
    "            ans = mid\n",
    "            e = mid - 1\n",
    "        else:\n",
    "            s = mid + 1\n",
    "        mid = s + (e-s)/2\n",
    "    return ans\n",
    "\n",
    "def is_possible(arr, n, m, mid):\n",
    "    stuCount, pageSum = 1, 0\n",
    "    for i in range(0,n):\n",
    "        if (pageSum + arr[i]) <= mid:\n",
    "            pageSum += arr[i]\n",
    "        else:\n",
    "            stuCount += 1\n",
    "            if stuCount > m or arr[i] > mid:\n",
    "                return False\n",
    "            pageSum = arr[i]\n",
    "    return True\n",
    "\n",
    "arr = [10, 20, 30, 40]\n",
    "answer = allocate_books(arr, len(arr), 2)\n",
    "print(answer)"
   ]
  },
  {
   "cell_type": "code",
   "execution_count": null,
   "id": "594cc093-e850-4aac-b0c5-f897401397bb",
   "metadata": {},
   "outputs": [],
   "source": []
  }
 ],
 "metadata": {
  "kernelspec": {
   "display_name": "Python 3 (ipykernel)",
   "language": "python",
   "name": "python3"
  },
  "language_info": {
   "codemirror_mode": {
    "name": "ipython",
    "version": 3
   },
   "file_extension": ".py",
   "mimetype": "text/x-python",
   "name": "python",
   "nbconvert_exporter": "python",
   "pygments_lexer": "ipython3",
   "version": "3.9.13"
  }
 },
 "nbformat": 4,
 "nbformat_minor": 5
}
