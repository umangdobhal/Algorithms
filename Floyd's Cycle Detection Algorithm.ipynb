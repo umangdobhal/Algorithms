{
 "cells": [
  {
   "cell_type": "markdown",
   "id": "6d36b543",
   "metadata": {},
   "source": [
    "## Floyd's Cycle Detection\n",
    "### About\n",
    "Floyd’s cycle detection algorithm is a pointer algorithm that uses only two pointers, moving through the sequence at different speeds. The article states the usage of this algorithm in Linked List and its output.\n",
    "\n",
    "The purpose is to determine whether the linked list has a cycle or not. First, you keep two pointers of the head node. At each iteration, you move one of the pointers by two steps and the other one by one step. So you have two pointers tortoise and the hare. Eventually one of the two cases will happen:\n",
    "\n",
    "Hare will reach the tail of the linked list(null), which means that there is no cycle in it.\n",
    "Hare will meet tortoise, which means that there is a cycle\n",
    " \n",
    "The most intuitive way of seeing this is as follows:\n",
    "\n",
    "In each step of the algorithm, the tortoise walks 1 node, and the hare walks 2 nodes. In practice, the tortoise gets away by 1 distance unit, and then the hare gets nearby 2 distance units. In practice, it’s just like in each step, the tortoise stays stationary and the hare moves by 1 step."
   ]
  },
  {
   "cell_type": "code",
   "execution_count": 1,
   "id": "963fae81",
   "metadata": {},
   "outputs": [
    {
     "name": "stdout",
     "output_type": "stream",
     "text": [
      "Loop exists in the Linked List\n"
     ]
    }
   ],
   "source": [
    "class Node:\n",
    "    def __init__(self, d):\n",
    "        self.data = d\n",
    "        self.next = None\n",
    "        \n",
    "head = None\n",
    "\n",
    "def detectLoop(head):\n",
    "    slowPointer = head\n",
    "    fastPointer = head\n",
    "    \n",
    "    while (slowPointer != None and fastPointer != None and fastPointer.next != None):\n",
    "        slowPointer = slowPointer.next\n",
    "        fastPointer = fastPointer.next.next\n",
    "        if (slowPointer == fastPointer):\n",
    "            return 1\n",
    "        \n",
    "    return 0\n",
    "\n",
    "def printLinkedList(head):\n",
    "    temp = head\n",
    "    while temp is not None:\n",
    "        print(temp.data, end=\" \")\n",
    "        temp = temp.next\n",
    "    print()\n",
    "\n",
    "head = Node(10)\n",
    "head.next = Node(20)\n",
    "head.next.next = Node(30)\n",
    "head.next.next.next = Node(40)\n",
    "head.next.next.next.next = Node(50)\n",
    "head.next.next.next.next.next = Node(60)\n",
    "\n",
    "temp = head\n",
    "while (temp.next != None):\n",
    "    temp = temp.next\n",
    "\n",
    "temp.next = head\n",
    "\n",
    "start = head\n",
    "# printLinkedList(start) : It will create a infinite loop as the list is looped\n",
    "\n",
    "if (detectLoop(head)):\n",
    "    print(\"Loop exists in the Linked List\")\n",
    "else:\n",
    "    print(\"Loop does not exists in the Linked List\")\n"
   ]
  },
  {
   "cell_type": "code",
   "execution_count": null,
   "id": "4aa3a93e",
   "metadata": {},
   "outputs": [],
   "source": []
  }
 ],
 "metadata": {
  "kernelspec": {
   "display_name": "Python 3 (ipykernel)",
   "language": "python",
   "name": "python3"
  },
  "language_info": {
   "codemirror_mode": {
    "name": "ipython",
    "version": 3
   },
   "file_extension": ".py",
   "mimetype": "text/x-python",
   "name": "python",
   "nbconvert_exporter": "python",
   "pygments_lexer": "ipython3",
   "version": "3.9.13"
  }
 },
 "nbformat": 4,
 "nbformat_minor": 5
}
