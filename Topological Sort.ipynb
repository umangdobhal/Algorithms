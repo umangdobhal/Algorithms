{
 "cells": [
  {
   "cell_type": "markdown",
   "id": "681ce666",
   "metadata": {},
   "source": [
    "## Topological Sort Algorithm\n",
    "It is the linear ordering of vertices such that if there is an edge ``` u ``` and ``` v ```. ``` u ``` appears before ``` v ``` in that ordering.\n",
    "\n",
    "It only exist on Directed Acyclic Graphs."
   ]
  },
  {
   "cell_type": "code",
   "execution_count": 5,
   "id": "5a59e96d",
   "metadata": {},
   "outputs": [
    {
     "name": "stdout",
     "output_type": "stream",
     "text": [
      "[4, 3, 2, 1, 0]\n"
     ]
    }
   ],
   "source": [
    "def topological(graph, v):\n",
    "    stack = []\n",
    "    visited = [False] * v\n",
    "    nodes = list(graph.keys())  # Get the list of nodes\n",
    "    node_to_index = {node: index for index, node in enumerate(nodes)}  # Map nodes to indices\n",
    "\n",
    "    for i in range(v):\n",
    "        if not visited[i]:\n",
    "            dfs(i, graph, visited, stack, node_to_index)\n",
    "            \n",
    "    print(stack)\n",
    "\n",
    "\n",
    "def dfs(node, graph, visited, stack, node_to_index):\n",
    "    visited[node] = True\n",
    "    \n",
    "    for child in graph[node_to_index[node]]:\n",
    "        if not visited[child]:\n",
    "            dfs(child, graph, visited, stack, node_to_index)\n",
    "    \n",
    "    stack.append(node)\n",
    "\n",
    "graph = {\n",
    "    0: [1],\n",
    "    1: [0, 2],\n",
    "    2: [1, 3],\n",
    "    3: [2, 4],\n",
    "    4: [1, 3]\n",
    "}\n",
    "\n",
    "topological(graph, len(graph))\n"
   ]
  },
  {
   "cell_type": "code",
   "execution_count": null,
   "id": "1ce9f122",
   "metadata": {},
   "outputs": [],
   "source": []
  }
 ],
 "metadata": {
  "kernelspec": {
   "display_name": "Python 3 (ipykernel)",
   "language": "python",
   "name": "python3"
  },
  "language_info": {
   "codemirror_mode": {
    "name": "ipython",
    "version": 3
   },
   "file_extension": ".py",
   "mimetype": "text/x-python",
   "name": "python",
   "nbconvert_exporter": "python",
   "pygments_lexer": "ipython3",
   "version": "3.9.13"
  }
 },
 "nbformat": 4,
 "nbformat_minor": 5
}
