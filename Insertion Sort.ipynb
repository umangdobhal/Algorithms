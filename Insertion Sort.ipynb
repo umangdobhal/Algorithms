{
 "cells": [
  {
   "cell_type": "markdown",
   "id": "846dd4df",
   "metadata": {},
   "source": [
    "## Insertion Sort\n",
    "### About\n",
    "Insertion sort is a sorting algorithm that places an unsorted element at its suitable place in each iteration.\n",
    "\n",
    "Insertion sort works similarly as we sort cards in our hand in a card game.\n",
    "### Algorithm\n",
    "1. The first element in the array is assumed to be sorted. Take the second element and store it separately in key. Compare key with the first element. If the first element is greater than key, then key is placed in front of the first element.\n",
    "2. Now, the first two elements are sorted. Take the third element and compare it with the elements on the left of it. Placed it just behind the element smaller than it. If there is no element smaller than it, then place it at the beginning of the array.\n",
    "3. Similarly, place every unsorted element at its correct position."
   ]
  },
  {
   "cell_type": "code",
   "execution_count": 3,
   "id": "e12882df",
   "metadata": {},
   "outputs": [
    {
     "name": "stdout",
     "output_type": "stream",
     "text": [
      "Enter the number of elements in the array: 10\n",
      "45\n",
      "84\n",
      "96\n",
      "39\n",
      "36\n",
      "46\n",
      "69\n",
      "78\n",
      "12\n",
      "0\n",
      "Array is:  [45, 84, 96, 39, 36, 46, 69, 78, 12, 0]\n",
      "Sorted Array:  [0, 12, 36, 39, 45, 46, 69, 78, 84, 96]\n"
     ]
    }
   ],
   "source": [
    "def insertionSort(array):\n",
    "\n",
    "    for step in range(1, len(array)):\n",
    "        key = array[step]\n",
    "        j = step - 1\n",
    "           \n",
    "        while j >= 0 and key < array[j]:\n",
    "            array[j + 1] = array[j]\n",
    "            j = j - 1\n",
    "        \n",
    "        array[j + 1] = key\n",
    "\n",
    "\n",
    "a = []\n",
    "n = int(input(\"Enter the number of elements in the array: \"))\n",
    "for i in range(0,n):\n",
    "    b = int(input())\n",
    "    a.append(b)\n",
    "print(\"Array is: \", a)\n",
    "insertionSort(a)\n",
    "print('Sorted Array: ', a)"
   ]
  },
  {
   "cell_type": "code",
   "execution_count": null,
   "id": "545743ea",
   "metadata": {},
   "outputs": [],
   "source": []
  }
 ],
 "metadata": {
  "kernelspec": {
   "display_name": "Python 3 (ipykernel)",
   "language": "python",
   "name": "python3"
  },
  "language_info": {
   "codemirror_mode": {
    "name": "ipython",
    "version": 3
   },
   "file_extension": ".py",
   "mimetype": "text/x-python",
   "name": "python",
   "nbconvert_exporter": "python",
   "pygments_lexer": "ipython3",
   "version": "3.9.13"
  }
 },
 "nbformat": 4,
 "nbformat_minor": 5
}
