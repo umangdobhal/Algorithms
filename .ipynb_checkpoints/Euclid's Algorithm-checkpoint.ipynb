{
 "cells": [
  {
   "cell_type": "markdown",
   "id": "2b882b07",
   "metadata": {},
   "source": [
    "## Euclid's Algorithm\n",
    "The Euclidean algorithm is a way to find the greatest common divisor of two positive integers. GCD of two numbers is the largest number that divides both of them. A simple way to find GCD is to factorize both numbers and multiply common prime factors.\n",
    "\n",
    "### Basic Euclidean Algorithm for GCD: \n",
    "The algorithm is based on the below facts. \n",
    "\n",
    "1. If we subtract a smaller number from a larger one, GCD doesn’t change. So if we keep subtracting repeatedly the larger of two, we end up with GCD.\n",
    "2. Now instead of subtraction, if we divide the smaller number, the algorithm stops when we find the remainder 0.\n",
    "\n",
    "### Extended Euclidean Algorithm: \n",
    " Extended Euclidean algorithm also finds integer coefficients x and y such that: ax + by = gcd(a, b)\n",
    " The extended Euclidean algorithm updates the results of gcd(a, b) using the results calculated by the recursive call gcd(b%a, a). \n",
    "Let values of x and y calculated by the recursive call be x1 and y1. x and y are updated using the below expressions. \n",
    "```\n",
    "ax + by = gcd(a, b)\n",
    "gcd(a, b) = gcd(b%a, a)\n",
    "gcd(b%a, a) = (b%a)x1 + ay1\n",
    "ax + by = (b%a)x1 + ay1\n",
    "ax + by = (b – [b/a] * a)x1 + ay1\n",
    "ax + by = a(y1 – [b/a] * x1) + bx1\n",
    "\n",
    "Comparing LHS and RHS,\n",
    "x = y1 – ⌊b/a⌋ * x1\n",
    " y = x1\n",
    "```"
   ]
  },
  {
   "cell_type": "code",
   "execution_count": 4,
   "id": "61e9ec01",
   "metadata": {},
   "outputs": [
    {
     "name": "stdout",
     "output_type": "stream",
     "text": [
      "Enter first number: 999\n",
      "Enter second number: 453\n",
      "GCD is  3\n"
     ]
    }
   ],
   "source": [
    "def basic(a,b): \n",
    "    if a == 0:\n",
    "        return b\n",
    "    else:\n",
    "        return basic(b%a,a)\n",
    "    \n",
    "u = int(input(\"Enter first number: \"))\n",
    "v = int(input(\"Enter second number: \"))\n",
    "\n",
    "res = basic(u,v)\n",
    "print(\"GCD is \", res)\n"
   ]
  },
  {
   "cell_type": "code",
   "execution_count": 7,
   "id": "e7d5380d",
   "metadata": {},
   "outputs": [
    {
     "name": "stdout",
     "output_type": "stream",
     "text": [
      "Enter first number: 74\n",
      "Enter second number: 23\n",
      "Result:  1\n"
     ]
    }
   ],
   "source": [
    "def extended(a,b):\n",
    "    if a == 0:\n",
    "        return b, 0, 1\n",
    "    \n",
    "    gcd, x1, y1 = extended(b%a,a)\n",
    "    \n",
    "    x = y1 - (b//a) * x1\n",
    "    y = x1\n",
    " \n",
    "    return gcd, x, y\n",
    "\n",
    "u = int(input(\"Enter first number: \"))\n",
    "v = int(input(\"Enter second number: \"))\n",
    "\n",
    "res, x, y = extended(u,v)\n",
    "print(\"Result: \", res)"
   ]
  },
  {
   "cell_type": "code",
   "execution_count": null,
   "id": "bb69a121",
   "metadata": {},
   "outputs": [],
   "source": []
  }
 ],
 "metadata": {
  "kernelspec": {
   "display_name": "Python 3 (ipykernel)",
   "language": "python",
   "name": "python3"
  },
  "language_info": {
   "codemirror_mode": {
    "name": "ipython",
    "version": 3
   },
   "file_extension": ".py",
   "mimetype": "text/x-python",
   "name": "python",
   "nbconvert_exporter": "python",
   "pygments_lexer": "ipython3",
   "version": "3.9.13"
  }
 },
 "nbformat": 4,
 "nbformat_minor": 5
}
