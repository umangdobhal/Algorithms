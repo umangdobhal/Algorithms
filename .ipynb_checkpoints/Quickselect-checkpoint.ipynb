{
 "cells": [
  {
   "cell_type": "markdown",
   "id": "0b4d2c67",
   "metadata": {},
   "source": [
    "## Quickselect\n",
    "\n",
    "It is the algorithm which is used to find the \"k\" smallest element in an unsorted array.\n",
    "\n",
    "After finding the pivot (a position that partitions the list into two parts: every element on the left is less than the pivot and every element on the right is more than the pivot) the algorithm recurs only for the part that contains the k-th smallest element.\n",
    "\n",
    "If the index of the partitioned element (pivot) is more than k, then the algorithm recurs for the left part. If the index (pivot) is same as k, then we have found the k-th smallest element and it is returned. If index is less than k, then the algorithm recurs for the right part.\n",
    "\n",
    "### Algorithm\n",
    "```\n",
    "quickSelect(list, left, right, k)\n",
    "\n",
    "   if left = right\n",
    "      return list[left]\n",
    "      \n",
    "   pivotIndex := partition(list, left, right, pivotIndex)\n",
    "   if k = pivotIndex\n",
    "      return list[k]\n",
    "   else if k < pivotIndex\n",
    "      right := pivotIndex - 1\n",
    "   else\n",
    "      left := pivotIndex + 1\n",
    "```"
   ]
  },
  {
   "cell_type": "code",
   "execution_count": 2,
   "id": "492005c4",
   "metadata": {},
   "outputs": [
    {
     "name": "stdout",
     "output_type": "stream",
     "text": [
      "Enter size of array: 10\n",
      "9\n",
      "1\n",
      "7\n",
      "3\n",
      "4\n",
      "6\n",
      "8\n",
      "2\n",
      "5\n",
      "0\n",
      "Enter kth smallest value to find: 5\n",
      "4\n"
     ]
    }
   ],
   "source": [
    "def partition(arr, l, r):      \n",
    "    x = arr[r]\n",
    "    i = l\n",
    "    for j in range(l, r):\n",
    "          \n",
    "        if arr[j] <= x:\n",
    "            arr[i], arr[j] = arr[j], arr[i]\n",
    "            i += 1\n",
    "              \n",
    "    arr[i], arr[r] = arr[r], arr[i]\n",
    "    return i\n",
    "\n",
    "def quickSelect(arr, l, r, k):\n",
    "  \n",
    "    if (k > 0 and k <= r - l + 1):\n",
    "        index = partition(arr, l, r)\n",
    "  \n",
    "        if (index - l == k - 1):\n",
    "            return arr[index]\n",
    "  \n",
    "        if (index - l > k - 1):\n",
    "            return quickSelect(arr, l, index - 1, k)\n",
    "  \n",
    "        return quickSelect(arr, index + 1, r, \n",
    "                            k - index + l - 1)\n",
    "    print(\"Index out of bound\")\n",
    "    \n",
    "arr = []\n",
    "n = int(input(\"Enter size of array: \"))\n",
    "for i in range(0,n):\n",
    "    i = int(input())\n",
    "    arr.append(i)\n",
    "\n",
    "val = int(input(\"Enter kth smallest value to find: \"))    \n",
    "print(quickSelect(arr,0,n-1,val))"
   ]
  },
  {
   "cell_type": "code",
   "execution_count": null,
   "id": "59c1966b",
   "metadata": {},
   "outputs": [],
   "source": []
  }
 ],
 "metadata": {
  "kernelspec": {
   "display_name": "Python 3 (ipykernel)",
   "language": "python",
   "name": "python3"
  },
  "language_info": {
   "codemirror_mode": {
    "name": "ipython",
    "version": 3
   },
   "file_extension": ".py",
   "mimetype": "text/x-python",
   "name": "python",
   "nbconvert_exporter": "python",
   "pygments_lexer": "ipython3",
   "version": "3.9.13"
  }
 },
 "nbformat": 4,
 "nbformat_minor": 5
}
