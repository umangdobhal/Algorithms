{
 "cells": [
  {
   "attachments": {
    "image.png": {
     "image/png": "[encoded data removed]"
    }
   },
   "cell_type": "markdown",
   "id": "8a9a9aa2",
   "metadata": {},
   "source": [
    "## Union Find\n",
    "\n",
    "### Disjoint Set\n",
    "Sets that have no elements in common are known as disjoint sets. \n",
    "Two operations that can be performed on these sets are- find and union.\n",
    "\n",
    "#### Find Operation\n",
    "For two disjoint sets, the find operation is used to find a particular element.\n",
    "\n",
    "#### Union Operation\n",
    "It is used to combine two sets together. Graphically, we will add an edge between 2 disconneted graph to join them.\n",
    "We will store these sets as tree, with each tree corresponding to a set.\n",
    "![image.png](attachment:image.png)\n",
    "```\n",
    "1. Each element begins as a single set which means each vertex is its own tree. \n",
    "2. First, we check if 1 and 2 belong to the same set or not using FIND. \n",
    "\t find_set(x): Determine which subset a particular element belongs to. This can be used to see if two elements are in the same subset.\n",
    "3. Since they are not in the same set. Then we combine the sets containing elements 1 and 2 by using UNION. \n",
    "\t union(x,y): The two specified sets are combined (the set in which the element x is located, and the set in which the element y is located)\n",
    "4. Similarly, we combine the sets containing elements 3 and 4. Finally, we combine the sets containing elements 1 and 3.\n",
    "```\n",
    "There are two ways by which we can improve joining of two sets: ``` 1. Path Compression ``` ``` 2. Union by rank ```\n",
    "\n",
    "##### Path Compression\n",
    "Path compression is a method of flattening the tree structure when find_set(x) is used on it.\n",
    "\n",
    "This optimization is designed for speeding up the  ``` find_set(x) ``` operation.\n",
    "\n",
    "##### Union by rank\n",
    "If the roots of the trees are distinct, the trees are merged by connecting the roots of one to the roots of the other. If this is done carelessly, such as by always making x a child of y, the trees' height can grow as O(n). "
   ]
  },
  {
   "cell_type": "code",
   "execution_count": 5,
   "id": "51d9e376",
   "metadata": {},
   "outputs": [
    {
     "name": "stdout",
     "output_type": "stream",
     "text": [
      "B - C: 2\n",
      "C - E: 2\n",
      "C - D: 3\n",
      "D - F: 3\n",
      "A - B: 4\n",
      "Total Weight:  14\n"
     ]
    }
   ],
   "source": [
    "class Graph:\n",
    "    def __init__(self, vertices):\n",
    "        self.V = len(vertices)\n",
    "        self.vertex_map = {}  # Mapping of node names to indices\n",
    "        self.graph = []\n",
    "\n",
    "        # Assign an index to each node\n",
    "        for i, node in enumerate(vertices):\n",
    "            self.vertex_map[node] = i\n",
    "\n",
    "    def add_edge(self, u, v, w):\n",
    "        u_index = self.vertex_map[u]\n",
    "        v_index = self.vertex_map[v]\n",
    "        self.graph.append([u_index, v_index, w])\n",
    "\n",
    "    def find(self, parent, i):\n",
    "        if parent[i] == i:\n",
    "            return i\n",
    "        return self.find(parent, parent[i])\n",
    "\n",
    "    def apply_union(self, parent, rank, x, y):\n",
    "        xroot = self.find(parent, x)\n",
    "        yroot = self.find(parent, y)\n",
    "        if rank[xroot] < rank[yroot]:\n",
    "            parent[xroot] = yroot\n",
    "        elif rank[xroot] > rank[yroot]:\n",
    "            parent[yroot] = xroot\n",
    "        else:\n",
    "            parent[yroot] = xroot\n",
    "            rank[xroot] += 1\n",
    "     \n",
    "    def kruskal_algo(self):\n",
    "        result = []\n",
    "        i, e, total_weight = 0, 0, 0        \n",
    "        self.graph = sorted(self.graph, key=lambda item: item[2])\n",
    "        parent = {node: node for node in range(self.V)}\n",
    "        rank = {node: 0 for node in range(self.V)}\n",
    "        while e < self.V - 1:\n",
    "            u, v, w = self.graph[i]\n",
    "            i = i + 1\n",
    "            x = self.find(parent, u)\n",
    "            y = self.find(parent, v)\n",
    "            if x != y:\n",
    "                e = e + 1\n",
    "                result.append([u, v, w])\n",
    "                self.apply_union(parent, rank, x, y)\n",
    "                total_weight += w\n",
    "        for u, v, weight in result:\n",
    "            # Retrieve the node names using the vertex_map\n",
    "            u_node = next(key for key, value in self.vertex_map.items() if value == u)\n",
    "            v_node = next(key for key, value in self.vertex_map.items() if value == v)\n",
    "            print(\"%s - %s: %d\" % (u_node, v_node, weight))\n",
    "        print(\"Total Weight: \", total_weight)  \n",
    "        \n",
    "        \n",
    "g = Graph(['A', 'B', 'C', 'D', 'E', 'F'])\n",
    "\n",
    "g.add_edge('A', 'B', 4)\n",
    "g.add_edge('A', 'C', 4)\n",
    "g.add_edge('B', 'C', 2)\n",
    "g.add_edge('C', 'D', 3)\n",
    "g.add_edge('C', 'E', 2)\n",
    "g.add_edge('C', 'F', 4)\n",
    "g.add_edge('D', 'F', 3)\n",
    "g.add_edge('E', 'F', 3)\n",
    "\n",
    "g.kruskal_algo()"
   ]
  },
  {
   "cell_type": "code",
   "execution_count": null,
   "id": "80471bd6",
   "metadata": {},
   "outputs": [],
   "source": []
  }
 ],
 "metadata": {
  "kernelspec": {
   "display_name": "Python 3 (ipykernel)",
   "language": "python",
   "name": "python3"
  },
  "language_info": {
   "codemirror_mode": {
    "name": "ipython",
    "version": 3
   },
   "file_extension": ".py",
   "mimetype": "text/x-python",
   "name": "python",
   "nbconvert_exporter": "python",
   "pygments_lexer": "ipython3",
   "version": "3.9.13"
  }
 },
 "nbformat": 4,
 "nbformat_minor": 5
}
