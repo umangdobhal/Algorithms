{
 "cells": [
  {
   "cell_type": "markdown",
   "id": "1def0cdd",
   "metadata": {},
   "source": [
    "## Boyer Moore Majority Vote\n",
    "Imagine that you have a non-sorted list of values. You want to know if there is a value that is present in the list for more than half of the elements in that list.\n",
    "### Simple Solution\n",
    "Sort the list, if there is a majority value it must now be the middle value. To confirm it's the majority, run another pass through the list and count it's frequency.\n",
    "\n",
    "The simple solution is O(n lg n) due to the sort though.\n",
    "\n",
    "### Algorithm\n",
    "The algorithm uses O(1) extra space and O(N) time. It requires exactly 2 passes over the input list. It's also quite simple to implement, though a little trickier to understand how it works.\n",
    "\n",
    "In the first pass, we generate a single candidate value which is the majority value if there is a majority. The second pass simply counts the frequency of that value to confirm. The first pass is the interesting part.\n",
    "\n",
    "In the first pass, we need 2 values:\n",
    "\n",
    "1. A candidate value, initially set to any value.\n",
    "2. A count, initially set to 0.\n",
    "For each element in our input list, we first examine the count value. If the count is equal to 0, we set the candidate to the value at the current element. Next, first compare the element's value to the current candidate value. If they are the same, we increment count by 1. If they are different, we decrement count by 1."
   ]
  },
  {
   "cell_type": "code",
   "execution_count": 5,
   "id": "3bd8c589",
   "metadata": {},
   "outputs": [
    {
     "name": "stdout",
     "output_type": "stream",
     "text": [
      "Enter number of elements in the array: 10\n",
      "2\n",
      "1\n",
      "9\n",
      "2\n",
      "5\n",
      "2\n",
      "6\n",
      "2\n",
      "7\n",
      "2\n",
      "[2, 1, 9, 2, 5, 2, 6, 2, 7, 2]\n",
      "No such element\n"
     ]
    }
   ],
   "source": [
    "def BoyerMoore(arr):\n",
    "    count = 0\n",
    "    for i in range(0,len(arr)):\n",
    "        if count == 0:\n",
    "            count = 1\n",
    "            element = arr[i]\n",
    "        elif arr[i] == element:\n",
    "            count += 1\n",
    "        else:\n",
    "            count -= 1\n",
    "    check = 0\n",
    "    for i in range(0, len(arr)):\n",
    "        if arr[i] == element:\n",
    "            check += 1\n",
    "    if check > len(arr)//2:\n",
    "        return element \n",
    "    return -1\n",
    "\n",
    "arr = []\n",
    "n = int(input(\"Enter number of elements in the array: \"))\n",
    "for i in range(0,n):\n",
    "    i = int(input())\n",
    "    arr.append(i)\n",
    "print(arr)\n",
    "res = BoyerMoore(arr)\n",
    "if (res != -1):\n",
    "    print(\"Element is \", res)\n",
    "else:\n",
    "    print(\"No such element\")"
   ]
  },
  {
   "cell_type": "markdown",
   "id": "a2ab4fe3",
   "metadata": {},
   "source": []
  }
 ],
 "metadata": {
  "kernelspec": {
   "display_name": "Python 3 (ipykernel)",
   "language": "python",
   "name": "python3"
  },
  "language_info": {
   "codemirror_mode": {
    "name": "ipython",
    "version": 3
   },
   "file_extension": ".py",
   "mimetype": "text/x-python",
   "name": "python",
   "nbconvert_exporter": "python",
   "pygments_lexer": "ipython3",
   "version": "3.9.13"
  }
 },
 "nbformat": 4,
 "nbformat_minor": 5
}
