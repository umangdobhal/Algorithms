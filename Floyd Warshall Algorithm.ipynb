{
 "cells": [
  {
   "cell_type": "markdown",
   "id": "6d52eb49",
   "metadata": {},
   "source": [
    "## Floyd Warshall Algorithm\n",
    "### About \n",
    "It is used for finding the shortest path between all the pair of vertices in a weighted graph. It works for both directed and undirected graph. Graphs which have negative cycles are not able to use this algorithm. Dynamic programming is used for solving the problem.\n",
    "### Formula Used\n",
    "\n",
    "A(k) [i,j] = min{A(k-1) [i,j], A(k-1) [i,k]+ A(k-1) [k,j]}\n",
    "\n",
    "where k = number of node for which distance is being calculated"
   ]
  },
  {
   "cell_type": "code",
   "execution_count": 2,
   "id": "1b77f14b",
   "metadata": {},
   "outputs": [
    {
     "name": "stdout",
     "output_type": "stream",
     "text": [
      "0  3  5  6   \n",
      "5  0  2  3   \n",
      "3  6  0  1   \n",
      "2  5  7  0   \n"
     ]
    }
   ],
   "source": [
    "nV = 4\n",
    "INF = 999\n",
    "\n",
    "def floyd_warshall(G):\n",
    "    distance = list(map(lambda i: list(map(lambda j: j, i)), G))\n",
    "\n",
    "    for k in range(nV):\n",
    "        for i in range(nV):\n",
    "            for j in range(nV):\n",
    "                distance[i][j] = min(distance[i][j], distance[i][k] + distance[k][j])\n",
    "    print_solution(distance)\n",
    "\n",
    "def print_solution(distance):\n",
    "    for i in range(nV):\n",
    "        for j in range(nV):\n",
    "            if(distance[i][j] == INF):\n",
    "                print(\"INF\", end=\" \")\n",
    "            else:\n",
    "                print(distance[i][j], end=\"  \")\n",
    "        print(\" \")\n",
    "\n",
    "\n",
    "G = [ [0, 3, INF, 7],\n",
    "      [8, 0, 2, INF],\n",
    "      [5, INF, 0, 1],\n",
    "      [2, INF, INF, 0]\n",
    "    ]\n",
    "\n",
    "floyd_warshall(G)"
   ]
  },
  {
   "cell_type": "code",
   "execution_count": null,
   "id": "4f1af554",
   "metadata": {},
   "outputs": [],
   "source": []
  },
  {
   "cell_type": "code",
   "execution_count": null,
   "id": "88c77775",
   "metadata": {},
   "outputs": [],
   "source": []
  }
 ],
 "metadata": {
  "kernelspec": {
   "display_name": "Python 3 (ipykernel)",
   "language": "python",
   "name": "python3"
  },
  "language_info": {
   "codemirror_mode": {
    "name": "ipython",
    "version": 3
   },
   "file_extension": ".py",
   "mimetype": "text/x-python",
   "name": "python",
   "nbconvert_exporter": "python",
   "pygments_lexer": "ipython3",
   "version": "3.9.13"
  }
 },
 "nbformat": 4,
 "nbformat_minor": 5
}
