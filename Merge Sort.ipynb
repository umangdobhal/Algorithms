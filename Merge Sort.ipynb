{
 "cells": [
  {
   "cell_type": "markdown",
   "id": "87dd5534",
   "metadata": {},
   "source": [
    "## Merge Sort\n",
    "### About\n",
    "In merge sort, the given array is divided into roughly two equal sub-arrays. These sub-arrays are divided over and over again into halves until we end up with arrays having only one element each. At last, we merge the sorted pairs of sub-arrays into a final sorted array.\n",
    "### Algorithm\n",
    "The merge sort algorithm divides the given array into roughly two equal halves and sorts them recursively. This process is continued until arrays have only one element left.\n",
    "\n",
    "1. The First step is to create copies of arrays. The first array contains the elements from ``[start_index,middle]and the second from[middle+1,end_index]``.\n",
    "2. In second step, we traverse both copies of the array with the help of pointers and select the smaller value of the two values and add them to the sorted array.\n",
    "3. The Last step is, if we run out of elements in any array, we select the remaining elements and place them in the sorted array."
   ]
  },
  {
   "cell_type": "code",
   "execution_count": 2,
   "id": "2d83fb6b",
   "metadata": {},
   "outputs": [
    {
     "name": "stdout",
     "output_type": "stream",
     "text": [
      "Enter number of element in the array: 10\n",
      "95\n",
      "15\n",
      "42\n",
      "36\n",
      "78\n",
      "42\n",
      "00\n",
      "1\n",
      "33\n",
      "69\n",
      "Array is:  [95, 15, 42, 36, 78, 42, 0, 1, 33, 69]\n",
      "Sorted array:  [0, 1, 15, 33, 36, 42, 42, 69, 78, 95]\n"
     ]
    }
   ],
   "source": [
    "def mergeSort(arr):\n",
    "        if len(arr) > 1:\n",
    " \n",
    "            mid = len(arr)//2\n",
    "            sub_array1 = arr[:mid]\n",
    "            sub_array2 = arr[mid:]\n",
    "            \n",
    "            mergeSort(sub_array1)\n",
    "            mergeSort(sub_array2)\n",
    "            i = j = k = 0\n",
    " \n",
    "            while i < len(sub_array1) and j < len(sub_array2):\n",
    "                if sub_array1[i] < sub_array2[j]:\n",
    "                    arr[k] = sub_array1[i]\n",
    "                    i += 1\n",
    "                else:\n",
    "                    arr[k] = sub_array2[j]\n",
    "                    j += 1\n",
    "                k += 1\n",
    "\n",
    "            while i < len(sub_array1):\n",
    "                arr[k] = sub_array1[i]\n",
    "                i += 1\n",
    "                k += 1\n",
    " \n",
    "            while j < len(sub_array2):\n",
    "                arr[k] = sub_array2[j]\n",
    "                j += 1\n",
    "                k += 1\n",
    "a = []\n",
    "n = int(input(\"Enter number of element in the array: \"))\n",
    "for i in range(0,n):\n",
    "    b = int(input())\n",
    "    a.append(b)\n",
    "    \n",
    "print(\"Array is: \", a)\n",
    "mergeSort(a)\n",
    "print(\"Sorted array: \",a)"
   ]
  },
  {
   "cell_type": "code",
   "execution_count": null,
   "id": "6c882bdb",
   "metadata": {},
   "outputs": [],
   "source": []
  }
 ],
 "metadata": {
  "kernelspec": {
   "display_name": "Python 3 (ipykernel)",
   "language": "python",
   "name": "python3"
  },
  "language_info": {
   "codemirror_mode": {
    "name": "ipython",
    "version": 3
   },
   "file_extension": ".py",
   "mimetype": "text/x-python",
   "name": "python",
   "nbconvert_exporter": "python",
   "pygments_lexer": "ipython3",
   "version": "3.9.13"
  }
 },
 "nbformat": 4,
 "nbformat_minor": 5
}
