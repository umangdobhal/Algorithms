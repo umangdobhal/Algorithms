{
 "cells": [
  {
   "cell_type": "markdown",
   "id": "d8631e70",
   "metadata": {},
   "source": [
    "## Kahn's Topological Sort\n",
    "### About\n",
    "It is same as the topological sort with difference being it uses BFS to the nodes."
   ]
  },
  {
   "cell_type": "code",
   "execution_count": 7,
   "id": "9f2d65ed",
   "metadata": {},
   "outputs": [
    {
     "name": "stdout",
     "output_type": "stream",
     "text": [
      "[4, 5, 2, 0, 3, 1]\n"
     ]
    }
   ],
   "source": [
    "def topological(graph, v):\n",
    "    indDegree = [0] * v\n",
    "\n",
    "    for i in graph:\n",
    "        for j in graph[i]:\n",
    "            indDegree[j] += 1\n",
    "\n",
    "    queue = []\n",
    "    for i in range(0, v):\n",
    "        if indDegree[i] == 0:\n",
    "            queue.append(i)\n",
    "\n",
    "    topo = []\n",
    "    while queue:\n",
    "        node = queue.pop(0) \n",
    "        topo.append(node)\n",
    "\n",
    "        for neighbor in graph[node]:\n",
    "            indDegree[neighbor] -= 1\n",
    "            if indDegree[neighbor] == 0:\n",
    "                queue.append(neighbor)\n",
    "\n",
    "    print(topo)\n",
    "\n",
    "\n",
    "graph = {\n",
    "    0: [],\n",
    "    1: [],\n",
    "    2: [3],\n",
    "    3: [1],\n",
    "    4: [1, 0],\n",
    "    5: [2, 0]\n",
    "}\n",
    "\n",
    "topological(graph, len(graph))\n"
   ]
  },
  {
   "cell_type": "code",
   "execution_count": null,
   "id": "e66851ad",
   "metadata": {},
   "outputs": [],
   "source": []
  }
 ],
 "metadata": {
  "kernelspec": {
   "display_name": "Python 3 (ipykernel)",
   "language": "python",
   "name": "python3"
  },
  "language_info": {
   "codemirror_mode": {
    "name": "ipython",
    "version": 3
   },
   "file_extension": ".py",
   "mimetype": "text/x-python",
   "name": "python",
   "nbconvert_exporter": "python",
   "pygments_lexer": "ipython3",
   "version": "3.9.13"
  }
 },
 "nbformat": 4,
 "nbformat_minor": 5
}
