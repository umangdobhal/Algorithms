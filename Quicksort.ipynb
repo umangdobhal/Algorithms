{
 "cells": [
  {
   "cell_type": "markdown",
   "id": "7b9e22b8",
   "metadata": {},
   "source": [
    "## Quicksort\n",
    "### About\n",
    "\n",
    "Quicksort is a sorting algorithm based on the divide and conquer approach where\n",
    "\n",
    "1. An array is divided into subarrays by selecting a pivot element (element selected from the array).\n",
    "   While dividing the array, the pivot element should be positioned in such a way that elements less than pivot are kept on the    left side and elements greater than pivot are on the right side of the pivot.\n",
    "2. The left and right subarrays are also divided using the same approach. This process continues until each subarray contains a    single element.\n",
    "3. At this point, elements are already sorted. Finally, elements are combined to form a sorted array.\n",
    "\n",
    "### Algorithm\n",
    "```\n",
    "QuickSort(arr, start, end)\n",
    "{\n",
    "\tif array of 0 or 1 element:\n",
    "    \treturn\n",
    "    p = partition(arr, start, end)\n",
    "    QuickSort(arr, start, p-1)\n",
    "    QuickSort(arr, p+1, end)\n",
    "}\n",
    "```\n",
    "```\n",
    "Partition(arr, start, end)\n",
    "{\n",
    "\tSelect a pivot and count all the element smaller than pivot\n",
    "    Place the element at arr[count]\n",
    "    Take 2 pointers 'i'- start and 'j'- end\n",
    "    Compare a[i] moving forward in array and a[j] moving backward in array\n",
    "    If a[i] is smaller than a[j] than move both pointer forward\n",
    "    Repeat the steps\n",
    "}\n",
    "```"
   ]
  },
  {
   "cell_type": "code",
   "execution_count": 6,
   "id": "f6d442c8",
   "metadata": {},
   "outputs": [
    {
     "name": "stdout",
     "output_type": "stream",
     "text": [
      "Enter the number of elements in the array: 10\n",
      "21\n",
      "45\n",
      "78\n",
      "96\n",
      "36\n",
      "32\n",
      "57\n",
      "49\n",
      "20\n",
      "86\n",
      "Unsorted array: [21, 45, 78, 96, 36, 32, 57, 49, 20, 86]\n",
      "Sorted array: [20, 21, 32, 36, 45, 49, 57, 78, 86, 96]\n"
     ]
    }
   ],
   "source": [
    "def quicksort(arr, start, end):\n",
    "    if start < end:\n",
    "        p = partition(arr, start, end)\n",
    "        quicksort(arr, start, p - 1)\n",
    "        quicksort(arr, p + 1, end)\n",
    "\n",
    "def partition(arr, start, end):\n",
    "    pivot = arr[start]\n",
    "    i = start + 1\n",
    "    j = end\n",
    "    \n",
    "    while True:\n",
    "        while i <= j and arr[i] <= pivot:\n",
    "            i += 1\n",
    "        while i <= j and arr[j] >= pivot:\n",
    "            j -= 1\n",
    "        if i <= j:\n",
    "            arr[i], arr[j] = arr[j], arr[i]\n",
    "        else:\n",
    "            break\n",
    "    \n",
    "    arr[start], arr[j] = arr[j], arr[start]\n",
    "    return j\n",
    "\n",
    "n = int(input(\"Enter the number of elements in the array: \"))\n",
    "a = []\n",
    "for _ in range(n):\n",
    "    b = int(input())\n",
    "    a.append(b)\n",
    "\n",
    "print(\"Unsorted array:\", a)\n",
    "quicksort(a, 0, n - 1)\n",
    "print(\"Sorted array:\", a)"
   ]
  },
  {
   "cell_type": "code",
   "execution_count": null,
   "id": "3cb5cbbf",
   "metadata": {},
   "outputs": [],
   "source": []
  }
 ],
 "metadata": {
  "kernelspec": {
   "display_name": "Python 3 (ipykernel)",
   "language": "python",
   "name": "python3"
  },
  "language_info": {
   "codemirror_mode": {
    "name": "ipython",
    "version": 3
   },
   "file_extension": ".py",
   "mimetype": "text/x-python",
   "name": "python",
   "nbconvert_exporter": "python",
   "pygments_lexer": "ipython3",
   "version": "3.9.13"
  }
 },
 "nbformat": 4,
 "nbformat_minor": 5
}
