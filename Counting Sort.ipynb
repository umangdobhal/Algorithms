{
 "cells": [
  {
   "cell_type": "code",
   "execution_count": 10,
   "id": "3c1b75aa",
   "metadata": {},
   "outputs": [
    {
     "name": "stdout",
     "output_type": "stream",
     "text": [
      "Enter number of element in the array: 10\n",
      "11\n",
      "55\n",
      "99\n",
      "77\n",
      "55\n",
      "99\n",
      "22\n",
      "566\n",
      "51\n",
      "23\n",
      "Array is:  [11, 55, 99, 77, 55, 99, 22, 566, 51, 23]\n"
     ]
    },
    {
     "ename": "IndexError",
     "evalue": "list index out of range",
     "output_type": "error",
     "traceback": [
      "\u001b[1;31m---------------------------------------------------------------------------\u001b[0m",
      "\u001b[1;31mIndexError\u001b[0m                                Traceback (most recent call last)",
      "Input \u001b[1;32mIn [10]\u001b[0m, in \u001b[0;36m<cell line: 30>\u001b[1;34m()\u001b[0m\n\u001b[0;32m     27\u001b[0m     a\u001b[38;5;241m.\u001b[39mappend(b)\n\u001b[0;32m     29\u001b[0m \u001b[38;5;28mprint\u001b[39m(\u001b[38;5;124m\"\u001b[39m\u001b[38;5;124mArray is: \u001b[39m\u001b[38;5;124m\"\u001b[39m, a)\n\u001b[1;32m---> 30\u001b[0m \u001b[43mcountSort\u001b[49m\u001b[43m(\u001b[49m\u001b[43ma\u001b[49m\u001b[43m)\u001b[49m\n\u001b[0;32m     31\u001b[0m \u001b[38;5;28mprint\u001b[39m(\u001b[38;5;124m\"\u001b[39m\u001b[38;5;124mSorted array: \u001b[39m\u001b[38;5;124m\"\u001b[39m,a)\n",
      "Input \u001b[1;32mIn [10]\u001b[0m, in \u001b[0;36mcountSort\u001b[1;34m(array)\u001b[0m\n\u001b[0;32m      5\u001b[0m count \u001b[38;5;241m=\u001b[39m [\u001b[38;5;241m0\u001b[39m] \u001b[38;5;241m*\u001b[39m \u001b[38;5;28mmax\u001b[39m(array)\n\u001b[0;32m      7\u001b[0m \u001b[38;5;28;01mfor\u001b[39;00m i \u001b[38;5;129;01min\u001b[39;00m \u001b[38;5;28mrange\u001b[39m(\u001b[38;5;241m0\u001b[39m, size):\n\u001b[1;32m----> 8\u001b[0m     count[array[i]] \u001b[38;5;241m+\u001b[39m\u001b[38;5;241m=\u001b[39m \u001b[38;5;241m1\u001b[39m\n\u001b[0;32m     10\u001b[0m \u001b[38;5;28;01mfor\u001b[39;00m i \u001b[38;5;129;01min\u001b[39;00m \u001b[38;5;28mrange\u001b[39m(\u001b[38;5;241m1\u001b[39m, \u001b[38;5;241m10\u001b[39m):\n\u001b[0;32m     11\u001b[0m     count[i] \u001b[38;5;241m+\u001b[39m\u001b[38;5;241m=\u001b[39m count[i \u001b[38;5;241m-\u001b[39m \u001b[38;5;241m1\u001b[39m]\n",
      "\u001b[1;31mIndexError\u001b[0m: list index out of range"
     ]
    }
   ],
   "source": [
    "def countSort(array):\n",
    "    size = len(array)\n",
    "    output = [0] * size\n",
    "\n",
    "    count = [0] * 10\n",
    "\n",
    "    for i in range(0, size):\n",
    "        count[array[i]] += 1\n",
    "        \n",
    "    for i in range(1, 10):\n",
    "        count[i] += count[i - 1]\n",
    "\n",
    "    i = size - 1\n",
    "    while i >= 0:\n",
    "        output[count[array[i]] - 1] = array[i]\n",
    "        count[array[i]] -= 1\n",
    "        i -= 1\n",
    "        \n",
    "    for i in range(0, size):\n",
    "        array[i] = output[i]\n",
    "\n",
    "\n",
    "a = []\n",
    "n = int(input(\"Enter number of element in the array: \"))\n",
    "for i in range(0,n):\n",
    "    b = int(input())\n",
    "    a.append(b)\n",
    "    \n",
    "print(\"Array is: \", a)\n",
    "countSort(a)\n",
    "print(\"Sorted array: \",a)"
   ]
  },
  {
   "cell_type": "code",
   "execution_count": null,
   "id": "e73547a1",
   "metadata": {},
   "outputs": [],
   "source": []
  }
 ],
 "metadata": {
  "kernelspec": {
   "display_name": "Python 3 (ipykernel)",
   "language": "python",
   "name": "python3"
  },
  "language_info": {
   "codemirror_mode": {
    "name": "ipython",
    "version": 3
   },
   "file_extension": ".py",
   "mimetype": "text/x-python",
   "name": "python",
   "nbconvert_exporter": "python",
   "pygments_lexer": "ipython3",
   "version": "3.9.13"
  }
 },
 "nbformat": 4,
 "nbformat_minor": 5
}
