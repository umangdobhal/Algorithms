{
 "cells": [
  {
   "cell_type": "markdown",
   "id": "9df150dd",
   "metadata": {},
   "source": [
    "## Huffman Coding Compression\n",
    "\n",
    "### About\n",
    "Huffman Coding is a technique of compressing data to reduce its size without losing any of the details.\n",
    "Huffman Coding is generally useful to compress the data in which there are frequently occurring characters.\n",
    "### Working\n",
    "Huffman coding first creates a tree using the frequencies of the character and then generates code for each character.\n",
    "\n",
    "Once the data is encoded, it has to be decoded. Decoding is done using the same tree.\n",
    "\n",
    "Huffman Coding prevents any ambiguity in the decoding process using the concept of prefix code ie. a code associated with a character should not be present in the prefix of any other code. The tree created above helps in maintaining the property.\n",
    "\n",
    "### Algorithm\n",
    "```\n",
    "create a priority queue Q consisting of each unique character.\n",
    "sort then in ascending order of their frequencies.\n",
    "for all the unique characters:\n",
    "    create a newNode\n",
    "    extract minimum value from Q and assign it to leftChild of newNode\n",
    "    extract minimum value from Q and assign it to rightChild of newNode\n",
    "    calculate the sum of these two minimum values and assign it to the value of newNode\n",
    "    insert this newNode into the tree\n",
    "return rootNode\n",
    "```"
   ]
  },
  {
   "cell_type": "code",
   "execution_count": 30,
   "id": "38f78331",
   "metadata": {},
   "outputs": [
    {
     "name": "stdout",
     "output_type": "stream",
     "text": [
      "Enter message: ABBCCCDDDDEEEEEZX\n",
      " Char | Huffman code \n",
      "----------------------\n",
      " 'E'  |          11\n",
      " 'D'  |          01\n",
      " 'C'  |          00\n",
      " 'B'  |         100\n",
      " 'A'  |        1010\n",
      " 'Z'  |       10111\n",
      " 'X'  |       10110\n"
     ]
    }
   ],
   "source": [
    "class NodeTree(object):\n",
    "    def __init__(self, left=None, right=None):\n",
    "        self.left = left\n",
    "        self.right = right\n",
    "\n",
    "    def children(self):\n",
    "        return (self.left, self.right)\n",
    "\n",
    "    def nodes(self):\n",
    "        return (self.left, self.right)\n",
    "\n",
    "    def __str__(self):\n",
    "        return '%s_%s' % (self.left, self.right)\n",
    "\n",
    "def huffman_code_tree(node, left=True, binString=''):\n",
    "    if type(node) is str:\n",
    "        return {node: binString}\n",
    "    (l, r) = node.children()\n",
    "    d = dict()\n",
    "    d.update(huffman_code_tree(l, True, binString + '0'))\n",
    "    d.update(huffman_code_tree(r, False, binString + '1'))\n",
    "    return d\n",
    "\n",
    "string = str(input(\"Enter message: \"))\n",
    "freq = {}\n",
    "for c in string:\n",
    "    if c in freq:\n",
    "        freq[c] += 1\n",
    "    else:\n",
    "        freq[c] = 1\n",
    "\n",
    "freq = sorted(freq.items(), key=lambda x: x[1], reverse=True)\n",
    "\n",
    "nodes = freq\n",
    "\n",
    "while len(nodes) > 1:\n",
    "    (key1, c1) = nodes[-1]\n",
    "    (key2, c2) = nodes[-2]\n",
    "    nodes = nodes[:-2]\n",
    "    node = NodeTree(key1, key2)\n",
    "    nodes.append((node, c1 + c2))\n",
    "\n",
    "    nodes = sorted(nodes, key=lambda x: x[1], reverse=True)\n",
    "\n",
    "huffmanCode = huffman_code_tree(nodes[0][0])\n",
    "\n",
    "print(' Char | Huffman code ')\n",
    "print('----------------------')\n",
    "for (char, frequency) in freq:\n",
    "    print(' %-4r |%12s' % (char, huffmanCode[char]))"
   ]
  },
  {
   "cell_type": "code",
   "execution_count": null,
   "id": "0621c892",
   "metadata": {},
   "outputs": [],
   "source": []
  },
  {
   "cell_type": "code",
   "execution_count": null,
   "id": "c6960e00",
   "metadata": {},
   "outputs": [],
   "source": []
  }
 ],
 "metadata": {
  "kernelspec": {
   "display_name": "Python 3 (ipykernel)",
   "language": "python",
   "name": "python3"
  },
  "language_info": {
   "codemirror_mode": {
    "name": "ipython",
    "version": 3
   },
   "file_extension": ".py",
   "mimetype": "text/x-python",
   "name": "python",
   "nbconvert_exporter": "python",
   "pygments_lexer": "ipython3",
   "version": "3.9.13"
  }
 },
 "nbformat": 4,
 "nbformat_minor": 5
}
